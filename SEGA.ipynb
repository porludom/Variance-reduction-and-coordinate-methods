{
  "nbformat": 4,
  "nbformat_minor": 0,
  "metadata": {
    "colab": {
      "provenance": []
    },
    "kernelspec": {
      "name": "python3",
      "display_name": "Python 3"
    },
    "language_info": {
      "name": "python"
    }
  },
  "cells": [
    {
      "cell_type": "markdown",
      "source": [
        "# SEGA or Variance Reduction via Gradient sketching\n",
        "## Problem statement\n",
        "The method is used for solving following optimization problems:\n",
        "\\begin{equation}\n",
        "\\min_{x \\in \\mathbb{R}^d} F(x) \\stackrel{\\text{def}}{=} f(x) + R(x),\n",
        "\\end{equation}\n",
        "where $f : \\text{R}^d → \\text{R}$ is smooth and µ–strongly convex, and $R : \\text{R}^d → \\text{R} \\cup \\{+∞\\}$ is a closed convex regularizer with available [proximal operator](https://en.wikipedia.org/wiki/Proximal_operator) defined as\n",
        "\\begin{equation}\n",
        "\\text{prox}_{\\alpha R} (x) \\stackrel{\\text{def}}{=} \\underset{y}{\\mathrm{argmin}} (R(y) + \\frac{1}{2\\alpha} ||y-x||_\\text{B}^2)\n",
        "\\end{equation}\n",
        "Here, B is a positive definite weight matrix such that $||x||^2_\\text{B} = \\langle \\text{B}x,x \\rangle$.\\\n",
        "\\\n",
        "Also, we have only the __linear transformation__ of true gradient available at any moment, so \\begin{equation}\n",
        "\\zeta (S,x)\n",
        "\\stackrel{\\text{def}}{=} S^T\\nabla f(x), \\quad S \\sim D, S \\in \\text{R}^{\\text{d x b}}, x\\in \\text{R}^\\text{d}\n",
        "\\end{equation}\n",
        "It means, we have some distribution of linear transformation D, and every time we ask for the gradient, oracle samples the linear transformation S from D, applies it to the gradient and gives us the result. For example, D can be the distribution over base vectors or vectors over gaussian distribution."
      ],
      "metadata": {
        "id": "YVNaaMpmTujB"
      }
    },
    {
      "cell_type": "markdown",
      "source": [
        "## The first experiment\n",
        "First, we will work with the optimization problem of logistic regression to test the method and compare it to Coordinate descent. \\\n",
        "Here, we will optimize parameters __w__ to minimize the function F(w). Lets define the function F(w):\n",
        "\\begin{equation}\n",
        "F(w) = \\frac{1}{n} \\sum\\limits_{i=1}^n \\ln (1 + e^{-y_iw^Tx_i}) + \\frac{\\lambda}{2} \\| w \\|^2_2\n",
        "\\end{equation}\n",
        "The normalized sum of logs is the __f(w)__, and L2 regularizer is the __R(w)__. The parameter $\\lambda$ will be 0.005. The derivative of the function f(w) is\n",
        "\\begin{equation}\n",
        "\\nabla f(w) = -\\frac{1}{n} \\sum\\limits_{i=1}^n \\frac{y_ix_i}{1 + e^{y_iw^Tx_i}}\n",
        "\\end{equation}\n",
        "X and y are taken from the [__mushrooms__ dataset](https://github.com/porludom/Variance-reduction-via-gradient-sketching/blob/main/mushrooms.txt), where $y \\in \\{-1,1\\}$\\\n",
        "For the rest of the colab, D is the distribution over standard basis vectors, because we want to compare it to coordinate descent that also uses gradient-descent in the direction of base vectors.\\\n",
        "Also, B is chosen to be just the identity matrix."
      ],
      "metadata": {
        "id": "5NWJtw4sSbvI"
      }
    },
    {
      "cell_type": "markdown",
      "source": [
        "### Some preparation: imports and loading of dataset"
      ],
      "metadata": {
        "id": "kJvpnotAhjb5"
      }
    },
    {
      "cell_type": "code",
      "source": [
        "import numpy as np\n",
        "import matplotlib.pyplot as plt\n",
        "import seaborn as sns\n",
        "from tqdm import trange\n",
        "from tqdm import tqdm\n",
        "from sklearn.datasets import load_svmlight_file\n",
        "from sklearn.model_selection import train_test_split\n",
        "sns.set_theme()"
      ],
      "metadata": {
        "id": "IOFF-nX_g00y"
      },
      "execution_count": null,
      "outputs": []
    },
    {
      "cell_type": "code",
      "source": [
        "# Here we install the dataset.\n",
        "%%capture\n",
        "!wget https://raw.githubusercontent.com/porludom/Variance-reduction-via-gradient-sketching/main/mushrooms.txt"
      ],
      "metadata": {
        "id": "uf5HB1p4hGNk"
      },
      "execution_count": null,
      "outputs": []
    },
    {
      "cell_type": "code",
      "source": [
        "data = load_svmlight_file(\"mushrooms.txt\")\n",
        "X, y = data[0].toarray(), data[1]\n",
        "y = 2 * y - 3 # initially y are in {0,1}. we transform them to {-1,1}"
      ],
      "metadata": {
        "id": "VZkG2qDnhCPD"
      },
      "execution_count": null,
      "outputs": []
    },
    {
      "cell_type": "code",
      "source": [
        "X_train, X_test, y_train, y_test = train_test_split(X, y, test_size=0.2, random_state=42)"
      ],
      "metadata": {
        "id": "LRYIxCZEhfJI"
      },
      "execution_count": null,
      "outputs": []
    },
    {
      "cell_type": "code",
      "source": [
        "def f(X : np.ndarray, y : np.ndarray, w : np.ndarray):\n",
        "    n = X.shape[0]\n",
        "    f = 0\n",
        "    for i in range(n):\n",
        "        f += np.log(1 + np.exp(-y[i] * (w.transpose() @ X[i])))\n",
        "    return f / n"
      ],
      "metadata": {
        "id": "QJH5iktgbj0E"
      },
      "execution_count": null,
      "outputs": []
    },
    {
      "cell_type": "code",
      "source": [
        "def grad_f(X : np.ndarray, y : np.ndarray, w : np.ndarray):\n",
        "    n = X.shape[0]\n",
        "    gr = np.zeros(X.shape[1]).reshape(-1,1)\n",
        "    for i in range(n):\n",
        "        gr += (y[i] * X[i].reshape(-1,1)) / ( 1 + np.exp(y[i] * (w.transpose() @ X[i])))\n",
        "    return -gr / n"
      ],
      "metadata": {
        "id": "5eN2m_8Ibk_1"
      },
      "execution_count": null,
      "outputs": []
    },
    {
      "cell_type": "markdown",
      "source": [
        "#SEGA algorithm for logistic regression\n",
        "Here lets define algorithm-related function for the case of logistic regression"
      ],
      "metadata": {
        "id": "YXxnjRbIw9yM"
      }
    },
    {
      "cell_type": "code",
      "source": [
        "def sample_S_from_D(d : int):\n",
        "  '''\n",
        "\n",
        "  Here, D is the distribution over standart basis vectors in R^d.\n",
        "  Returns the sampled unit vector.\n",
        "  '''\n",
        "  chosen_component = np.random.choice(range(d))\n",
        "  vec = np.zeros(d)\n",
        "  vec[chosen_component] = 1\n",
        "  return vec.reshape(-1,1), chosen_component"
      ],
      "metadata": {
        "id": "Mb2aWzWgNivI"
      },
      "execution_count": null,
      "outputs": []
    },
    {
      "cell_type": "code",
      "source": [
        "def calculate_Z_k(S_k, B_inv):\n",
        "  '''\n",
        "  calculation of Z_k using paper\n",
        "  '''\n",
        "  return S_k @ (S_k.T @ B_inv @ S_k).T @ S_k.T"
      ],
      "metadata": {
        "id": "d_Ig53K0132K"
      },
      "execution_count": null,
      "outputs": []
    },
    {
      "cell_type": "code",
      "source": [
        "def proximal_for_L2_squared(w : np.ndarray, lam, alpha = 1):\n",
        "  '''\n",
        "  alpha - the stepsize for proximal operator\n",
        "  lambda - the coefficient for regularizer\n",
        "\n",
        "  Returns the result of proximal step\n",
        "  '''\n",
        "  return w / (1 + lam * alpha) #please check chapter 4.2 for proofs: https://cims.nyu.edu/~cfgranda/pages/MTDS_spring19/notes/convex_optimization.pdf"
      ],
      "metadata": {
        "id": "nua-AOhY3F7_"
      },
      "execution_count": null,
      "outputs": []
    },
    {
      "cell_type": "markdown",
      "source": [
        "## SEGA\n",
        "During the training, we will use as the criterion the fraction of squared second norm of gradient at initial point and point x_k.\n"
      ],
      "metadata": {
        "id": "vQuKrIxHU_wL"
      }
    },
    {
      "cell_type": "code",
      "source": [
        "d = X_train.shape[1] # dimensionality of parameter vector that is equal to dim. of x vector, because we do dot product in the model\n",
        "\n",
        "B = np.eye(d) # Depends on your task\n",
        "B_inv = np.eye(d)\n",
        "\n",
        "lam = 0.00525\n",
        "L = 5.25 + lam"
      ],
      "metadata": {
        "id": "-JyFm0iExB8e"
      },
      "execution_count": null,
      "outputs": []
    },
    {
      "cell_type": "code",
      "source": [
        "iterations = 1000\n",
        "losses_SEGA = [1]\n",
        "x_0 = np.ones((d, 1)) # Same for sega and CD\n",
        "x_k = x_0.copy()\n",
        "h_k = np.zeros((d, 1)) # global estimation that we will correct\n",
        "\n",
        "norm_of_gradient_at_start = np.linalg.norm(grad_f(X_train, y_train, x_k))**2\n",
        "step_size = 1 / L\n",
        "\n",
        "for iteration in trange(iterations):\n",
        "  S_k, component = sample_S_from_D(d) # sample transformation\n",
        "\n",
        "  Z_k = calculate_Z_k(S_k, B_inv)\n",
        "  some_expression = S_k * (grad_f(X_train, y_train, x_k)[component][0] - h_k[component][0]) # This is the common part for h and g\n",
        "\n",
        "  g_k = h_k + d * some_expression\n",
        "\n",
        "  x_k -= step_size * g_k\n",
        "  x_k = proximal_for_L2_squared(x_k, lam, step_size)\n",
        "\n",
        "  h_k = h_k + some_expression\n",
        "\n",
        "  if np.linalg.norm(grad_f(X_train, y_train, x_k))**2 > 2: #stop criteria if something is wrong\n",
        "    break\n",
        "\n",
        "  losses_SEGA.append(np.linalg.norm(grad_f(X_train, y_train, x_k))**2)"
      ],
      "metadata": {
        "id": "wq-ASEPIU7XJ",
        "colab": {
          "base_uri": "https://localhost:8080/"
        },
        "outputId": "83c8dcf0-7e51-4ebc-f65f-30d0d6d4ec7e"
      },
      "execution_count": null,
      "outputs": [
        {
          "output_type": "stream",
          "name": "stderr",
          "text": [
            "100%|██████████| 1000/1000 [05:25<00:00,  3.07it/s]\n"
          ]
        }
      ]
    },
    {
      "cell_type": "markdown",
      "source": [
        "## CD\n",
        "Coordinate descent is the gradient descent applied in the direction of such basis vector that has the best descent."
      ],
      "metadata": {
        "id": "w-eh0vPwaaW7"
      }
    },
    {
      "cell_type": "code",
      "source": [
        "losses_CD = [1]\n",
        "x_0 = np.ones((d, 1)) # Same for sega and CD\n",
        "x_k = x_0.copy()\n",
        "iterations = 1000\n",
        "\n",
        "norm_of_gradient_at_start = np.linalg.norm(grad_f(X_train, y_train, x_k))**2\n",
        "step_size = 1 / L\n",
        "for iteration in trange(iterations):\n",
        "  grad = grad_f(X_train, y_train, x_k)\n",
        "  sampled_component = np.argmax(abs(grad)) # pick the best component\n",
        "  g = np.zeros((d,1))\n",
        "  g[sampled_component][0] = grad[sampled_component][0]\n",
        "  x_k -= step_size * g\n",
        "  x_k = proximal_for_L2_squared(x_k, lam, step_size)\n",
        "\n",
        "  losses_CD.append(np.linalg.norm(grad_f(X_train, y_train, x_k))**2)"
      ],
      "metadata": {
        "colab": {
          "base_uri": "https://localhost:8080/"
        },
        "id": "N9TzsgNiabgF",
        "outputId": "47ca790d-9909-416b-e042-eced029adda3"
      },
      "execution_count": null,
      "outputs": [
        {
          "output_type": "stream",
          "name": "stderr",
          "text": [
            "100%|██████████| 1000/1000 [03:16<00:00,  5.09it/s]\n"
          ]
        }
      ]
    },
    {
      "cell_type": "markdown",
      "source": [
        "## Comparison"
      ],
      "metadata": {
        "id": "9Mq5IV2NacBz"
      }
    },
    {
      "cell_type": "code",
      "source": [
        "plt.plot(range(len(losses_CD)), losses_CD)\n",
        "plt.plot(range(len(losses_SEGA)), losses_SEGA)\n",
        "plt.title(\"Plot of criterion\")\n",
        "plt.xlabel(\"Iteration\")\n",
        "plt.ylabel(\"log of criterion\")\n",
        "plt.yscale(\"log\")\n",
        "plt.legend([\"CD\", \"SEGA\"])"
      ],
      "metadata": {
        "colab": {
          "base_uri": "https://localhost:8080/",
          "height": 497
        },
        "id": "2p6-JCD2N5uE",
        "outputId": "c0e8108e-2fcf-4f0d-c6ab-7fa3552d4472"
      },
      "execution_count": null,
      "outputs": [
        {
          "output_type": "execute_result",
          "data": {
            "text/plain": [
              "<matplotlib.legend.Legend at 0x7a4d5aa07fa0>"
            ]
          },
          "metadata": {},
          "execution_count": 129
        },
        {
          "output_type": "display_data",
          "data": {
            "text/plain": [
              "<Figure size 640x480 with 1 Axes>"
            ],
            "image/png": "[encoded data removed]"
          },
          "metadata": {}
        }
      ]
    }
  ]
}